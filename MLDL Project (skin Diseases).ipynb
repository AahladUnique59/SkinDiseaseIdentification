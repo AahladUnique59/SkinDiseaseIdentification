{
 "cells": [
  {
   "cell_type": "markdown",
   "metadata": {},
   "source": [
    "# Skin Diseases Identification Using Image Analysis"
   ]
  },
  {
   "cell_type": "raw",
   "metadata": {},
   "source": [
    "# Steps in Convolution Neural Networks\n",
    "1.Convolution\n",
    "2.Max pooling\n",
    "3.Flattening\n",
    "4.Full Connection"
   ]
  },
  {
   "cell_type": "raw",
   "metadata": {},
   "source": [
    "# Step 1:Convolution\n",
    "\n",
    "    *convolution is done to an image using feature dectector\n",
    "    *when input image is convolveed with the feature detector then we get a feature map\n",
    "    *by applying convolution operation size of the image is reduced so we may lose some information. but features detector is         one which stores the features and unwanted features are removed.\n",
    "    *WE will apply no of feature detectors(filter) to a single image so we will be getting nof features detectors. SO using no       of feature detectors we get max no of features in an image so we will be getting no of feature maps\n",
    "    *Group of feature map is called CONVOLUTION layer"
   ]
  },
  {
   "cell_type": "raw",
   "metadata": {},
   "source": [
    "# Step 2:Max pooling\n",
    "\n",
    "Types of pooling : Max pooling,Mean Pooling,Sum pooing\n",
    "Max Pooling:By applyimg max pooling we ar neglecting 75% of unwanted features and we are reducing spacial invariance this will avoid over fitting of the data ."
   ]
  },
  {
   "cell_type": "raw",
   "metadata": {},
   "source": [
    "# Step 3:Flattening\n",
    "\n",
    "flattening is converting n dimension to 1 dimension and applying ann to that 1 dimension array which just acts like inputs to the neurons.\n",
    "When output is not correct then in the backward propogation along with the weights feature detector(filter) is also optimised"
   ]
  },
  {
   "cell_type": "code",
   "execution_count": null,
   "metadata": {},
   "outputs": [],
   "source": [
    "Step 4: Full Connection\n",
    "Full connection is dense layers"
   ]
  },
  {
   "cell_type": "markdown",
   "metadata": {},
   "source": [
    "# Step 1: Import Keras Libraies"
   ]
  },
  {
   "cell_type": "code",
   "execution_count": 1,
   "metadata": {},
   "outputs": [
    {
     "name": "stderr",
     "output_type": "stream",
     "text": [
      "Using TensorFlow backend.\n"
     ]
    }
   ],
   "source": [
    "from keras.models import Sequential\n",
    "from keras.layers import Dense\n",
    "from keras.layers import Convolution2D\n",
    "from keras.layers import MaxPooling2D\n",
    "from keras.layers import Flatten"
   ]
  },
  {
   "cell_type": "markdown",
   "metadata": {},
   "source": [
    "# Step 2: Data Preprocessing"
   ]
  },
  {
   "cell_type": "code",
   "execution_count": 2,
   "metadata": {},
   "outputs": [],
   "source": [
    "from keras.preprocessing.image import ImageDataGenerator\n",
    "train_datagen=ImageDataGenerator(rescale=1./255,shear_range=0.2,zoom_range=0.2,horizontal_flip=True)\n",
    "test_datagen=ImageDataGenerator(rescale=1./255)"
   ]
  },
  {
   "cell_type": "markdown",
   "metadata": {},
   "source": [
    "# Step 3: Loading The Dataset"
   ]
  },
  {
   "cell_type": "code",
   "execution_count": 4,
   "metadata": {},
   "outputs": [
    {
     "name": "stdout",
     "output_type": "stream",
     "text": [
      "Found 441 images belonging to 5 classes.\n",
      "Found 197 images belonging to 5 classes.\n"
     ]
    }
   ],
   "source": [
    "x_train=train_datagen.flow_from_directory(r'C:\\Users\\Aahlad Unique\\Downloads\\MLDL project.zip\\MLDL project\\dataset (skin diseases)\\Train',target_size=(64,64),batch_size=10,class_mode='categorical')\n",
    "x_test=test_datagen.flow_from_directory(r'C:\\Users\\Aahlad Unique\\Downloads\\MLDL project.zip\\MLDL project\\dataset (skin diseases)\\Test',target_size=(64,64),batch_size=10,class_mode='categorical')"
   ]
  },
  {
   "cell_type": "code",
   "execution_count": 5,
   "metadata": {},
   "outputs": [
    {
     "name": "stdout",
     "output_type": "stream",
     "text": [
      "{'actinic keratosis': 0, 'dermatofibroma': 1, 'melanoma': 2, 'seborrheic keratosis': 3, 'squamous cell carcinoma': 4}\n"
     ]
    }
   ],
   "source": [
    "print(x_train.class_indices)"
   ]
  },
  {
   "cell_type": "markdown",
   "metadata": {},
   "source": [
    "# Step 4: Initialize CNN Model"
   ]
  },
  {
   "cell_type": "code",
   "execution_count": 6,
   "metadata": {},
   "outputs": [
    {
     "name": "stdout",
     "output_type": "stream",
     "text": [
      "WARNING:tensorflow:From C:\\Users\\Aahlad Unique\\Anaconda3\\lib\\site-packages\\keras\\backend\\tensorflow_backend.py:74: The name tf.get_default_graph is deprecated. Please use tf.compat.v1.get_default_graph instead.\n",
      "\n"
     ]
    }
   ],
   "source": [
    "model=Sequential()"
   ]
  },
  {
   "cell_type": "markdown",
   "metadata": {},
   "source": [
    "# Step 5: Add Convolution Layer"
   ]
  },
  {
   "cell_type": "code",
   "execution_count": 7,
   "metadata": {},
   "outputs": [
    {
     "name": "stdout",
     "output_type": "stream",
     "text": [
      "WARNING:tensorflow:From C:\\Users\\Aahlad Unique\\Anaconda3\\lib\\site-packages\\keras\\backend\\tensorflow_backend.py:517: The name tf.placeholder is deprecated. Please use tf.compat.v1.placeholder instead.\n",
      "\n",
      "WARNING:tensorflow:From C:\\Users\\Aahlad Unique\\Anaconda3\\lib\\site-packages\\keras\\backend\\tensorflow_backend.py:4138: The name tf.random_uniform is deprecated. Please use tf.random.uniform instead.\n",
      "\n"
     ]
    }
   ],
   "source": [
    "model.add(Convolution2D(32,(3,3),input_shape=(64,64,3),activation=\"relu\"))"
   ]
  },
  {
   "cell_type": "markdown",
   "metadata": {},
   "source": [
    "# Step 6: Add MaxPooling Layer"
   ]
  },
  {
   "cell_type": "code",
   "execution_count": 8,
   "metadata": {},
   "outputs": [
    {
     "name": "stdout",
     "output_type": "stream",
     "text": [
      "WARNING:tensorflow:From C:\\Users\\Aahlad Unique\\Anaconda3\\lib\\site-packages\\keras\\backend\\tensorflow_backend.py:3976: The name tf.nn.max_pool is deprecated. Please use tf.nn.max_pool2d instead.\n",
      "\n"
     ]
    }
   ],
   "source": [
    "model.add(MaxPooling2D(pool_size=(2,2)))"
   ]
  },
  {
   "cell_type": "markdown",
   "metadata": {},
   "source": [
    "# Step 7: Add Flattening Layer (input layer)"
   ]
  },
  {
   "cell_type": "code",
   "execution_count": 9,
   "metadata": {},
   "outputs": [],
   "source": [
    "model.add(Flatten())"
   ]
  },
  {
   "cell_type": "markdown",
   "metadata": {},
   "source": [
    "# Step 8: Add Dense Layer (ANN hidden layer)"
   ]
  },
  {
   "cell_type": "code",
   "execution_count": 10,
   "metadata": {},
   "outputs": [
    {
     "name": "stderr",
     "output_type": "stream",
     "text": [
      "C:\\Users\\Aahlad Unique\\Anaconda3\\lib\\site-packages\\ipykernel_launcher.py:1: UserWarning: Update your `Dense` call to the Keras 2 API: `Dense(units=128, activation=\"relu\", kernel_initializer=\"random_uniform\")`\n",
      "  \"\"\"Entry point for launching an IPython kernel.\n"
     ]
    }
   ],
   "source": [
    "model.add(Dense(units=128,init=\"random_uniform\",activation=\"relu\"))"
   ]
  },
  {
   "cell_type": "markdown",
   "metadata": {},
   "source": [
    "# Step 9: Add Dense Layer(ANN output layer)"
   ]
  },
  {
   "cell_type": "code",
   "execution_count": 11,
   "metadata": {},
   "outputs": [
    {
     "name": "stderr",
     "output_type": "stream",
     "text": [
      "C:\\Users\\Aahlad Unique\\Anaconda3\\lib\\site-packages\\ipykernel_launcher.py:1: UserWarning: Update your `Dense` call to the Keras 2 API: `Dense(units=5, activation=\"softmax\", kernel_initializer=\"random_uniform\")`\n",
      "  \"\"\"Entry point for launching an IPython kernel.\n"
     ]
    }
   ],
   "source": [
    "model.add(Dense(units=5,init=\"random_uniform\",activation=\"softmax\"))"
   ]
  },
  {
   "cell_type": "markdown",
   "metadata": {},
   "source": [
    "# Step 10: Compile the model"
   ]
  },
  {
   "cell_type": "code",
   "execution_count": 12,
   "metadata": {},
   "outputs": [
    {
     "name": "stdout",
     "output_type": "stream",
     "text": [
      "WARNING:tensorflow:From C:\\Users\\Aahlad Unique\\Anaconda3\\lib\\site-packages\\keras\\optimizers.py:790: The name tf.train.Optimizer is deprecated. Please use tf.compat.v1.train.Optimizer instead.\n",
      "\n",
      "WARNING:tensorflow:From C:\\Users\\Aahlad Unique\\Anaconda3\\lib\\site-packages\\keras\\backend\\tensorflow_backend.py:3295: The name tf.log is deprecated. Please use tf.math.log instead.\n",
      "\n"
     ]
    }
   ],
   "source": [
    "model.compile(loss=\"categorical_crossentropy\",optimizer=\"adam\",metrics=[\"accuracy\"])"
   ]
  },
  {
   "cell_type": "markdown",
   "metadata": {},
   "source": [
    "# Step 11: Train The Data"
   ]
  },
  {
   "cell_type": "code",
   "execution_count": 13,
   "metadata": {
    "scrolled": true
   },
   "outputs": [
    {
     "name": "stdout",
     "output_type": "stream",
     "text": [
      "WARNING:tensorflow:From C:\\Users\\Aahlad Unique\\Anaconda3\\lib\\site-packages\\tensorflow\\python\\ops\\math_grad.py:1250: add_dispatch_support.<locals>.wrapper (from tensorflow.python.ops.array_ops) is deprecated and will be removed in a future version.\n",
      "Instructions for updating:\n",
      "Use tf.where in 2.0, which has the same broadcast rule as np.where\n",
      "WARNING:tensorflow:From C:\\Users\\Aahlad Unique\\Anaconda3\\lib\\site-packages\\keras\\backend\\tensorflow_backend.py:986: The name tf.assign_add is deprecated. Please use tf.compat.v1.assign_add instead.\n",
      "\n",
      "Epoch 1/50\n",
      "45/45 [==============================] - 18s 409ms/step - loss: 1.6012 - acc: 0.2557 - val_loss: 1.4505 - val_acc: 0.3553\n",
      "Epoch 2/50\n",
      "45/45 [==============================] - 15s 339ms/step - loss: 1.3935 - acc: 0.3624 - val_loss: 1.5137 - val_acc: 0.3198\n",
      "Epoch 3/50\n",
      "45/45 [==============================] - 21s 459ms/step - loss: 1.4364 - acc: 0.3442 - val_loss: 1.3009 - val_acc: 0.3553\n",
      "Epoch 4/50\n",
      "45/45 [==============================] - 24s 523ms/step - loss: 1.2319 - acc: 0.4220 - val_loss: 1.2070 - val_acc: 0.4619\n",
      "Epoch 5/50\n",
      "45/45 [==============================] - 20s 439ms/step - loss: 1.1976 - acc: 0.4335 - val_loss: 1.5537 - val_acc: 0.3147\n",
      "Epoch 6/50\n",
      "45/45 [==============================] - 21s 465ms/step - loss: 1.2668 - acc: 0.4197 - val_loss: 1.0940 - val_acc: 0.5330\n",
      "Epoch 7/50\n",
      "45/45 [==============================] - 18s 397ms/step - loss: 1.1182 - acc: 0.4958 - val_loss: 1.0190 - val_acc: 0.5736\n",
      "Epoch 8/50\n",
      "45/45 [==============================] - 13s 287ms/step - loss: 1.0718 - acc: 0.5113 - val_loss: 1.2626 - val_acc: 0.4569\n",
      "Epoch 9/50\n",
      "45/45 [==============================] - 13s 281ms/step - loss: 1.0417 - acc: 0.5376 - val_loss: 1.0371 - val_acc: 0.4822\n",
      "Epoch 10/50\n",
      "45/45 [==============================] - 13s 289ms/step - loss: 1.0607 - acc: 0.5202 - val_loss: 0.9647 - val_acc: 0.6091\n",
      "Epoch 11/50\n",
      "45/45 [==============================] - 19s 416ms/step - loss: 1.0607 - acc: 0.5291 - val_loss: 0.9992 - val_acc: 0.5939\n",
      "Epoch 12/50\n",
      "45/45 [==============================] - 20s 453ms/step - loss: 0.9756 - acc: 0.5803 - val_loss: 0.8795 - val_acc: 0.6497\n",
      "Epoch 13/50\n",
      "45/45 [==============================] - 19s 415ms/step - loss: 0.9385 - acc: 0.5887 - val_loss: 0.9121 - val_acc: 0.6497\n",
      "Epoch 14/50\n",
      "45/45 [==============================] - 13s 299ms/step - loss: 0.9541 - acc: 0.5780 - val_loss: 0.8632 - val_acc: 0.6548\n",
      "Epoch 15/50\n",
      "45/45 [==============================] - 13s 285ms/step - loss: 0.9760 - acc: 0.5869 - val_loss: 0.9219 - val_acc: 0.5431\n",
      "Epoch 16/50\n",
      "45/45 [==============================] - 13s 295ms/step - loss: 0.9922 - acc: 0.5731 - val_loss: 0.9380 - val_acc: 0.5787\n",
      "Epoch 17/50\n",
      "45/45 [==============================] - 13s 294ms/step - loss: 0.8736 - acc: 0.6065 - val_loss: 0.8513 - val_acc: 0.6497\n",
      "Epoch 18/50\n",
      "45/45 [==============================] - 13s 287ms/step - loss: 0.8893 - acc: 0.6376 - val_loss: 0.7600 - val_acc: 0.7259\n",
      "Epoch 19/50\n",
      "45/45 [==============================] - 13s 283ms/step - loss: 0.8572 - acc: 0.6176 - val_loss: 0.7896 - val_acc: 0.6954\n",
      "Epoch 20/50\n",
      "45/45 [==============================] - 13s 299ms/step - loss: 0.8437 - acc: 0.6447 - val_loss: 0.7627 - val_acc: 0.6904\n",
      "Epoch 21/50\n",
      "45/45 [==============================] - 13s 280ms/step - loss: 0.9317 - acc: 0.6109 - val_loss: 0.9090 - val_acc: 0.6599\n",
      "Epoch 22/50\n",
      "45/45 [==============================] - 13s 297ms/step - loss: 0.8762 - acc: 0.6443 - val_loss: 0.9072 - val_acc: 0.6142\n",
      "Epoch 23/50\n",
      "45/45 [==============================] - 13s 285ms/step - loss: 0.9463 - acc: 0.5798 - val_loss: 0.8286 - val_acc: 0.7056\n",
      "Epoch 24/50\n",
      "45/45 [==============================] - 13s 293ms/step - loss: 0.8253 - acc: 0.6492 - val_loss: 0.7269 - val_acc: 0.6954\n",
      "Epoch 25/50\n",
      "45/45 [==============================] - 13s 290ms/step - loss: 0.7563 - acc: 0.7021 - val_loss: 0.6527 - val_acc: 0.7411\n",
      "Epoch 26/50\n",
      "45/45 [==============================] - 15s 340ms/step - loss: 0.7534 - acc: 0.6888 - val_loss: 0.6533 - val_acc: 0.7411\n",
      "Epoch 27/50\n",
      "45/45 [==============================] - 13s 285ms/step - loss: 0.7488 - acc: 0.6999 - val_loss: 0.8564 - val_acc: 0.6802\n",
      "Epoch 28/50\n",
      "45/45 [==============================] - 12s 273ms/step - loss: 0.7214 - acc: 0.6888 - val_loss: 0.6519 - val_acc: 0.7259\n",
      "Epoch 29/50\n",
      "45/45 [==============================] - 13s 287ms/step - loss: 0.7140 - acc: 0.6776 - val_loss: 0.6844 - val_acc: 0.7208\n",
      "Epoch 30/50\n",
      "45/45 [==============================] - 14s 301ms/step - loss: 0.6969 - acc: 0.6959 - val_loss: 0.6682 - val_acc: 0.7360\n",
      "Epoch 31/50\n",
      "45/45 [==============================] - 14s 322ms/step - loss: 0.6519 - acc: 0.7510 - val_loss: 0.7073 - val_acc: 0.6751\n",
      "Epoch 32/50\n",
      "45/45 [==============================] - 17s 387ms/step - loss: 0.7016 - acc: 0.7110 - val_loss: 0.5696 - val_acc: 0.7817\n",
      "Epoch 33/50\n",
      "45/45 [==============================] - 20s 437ms/step - loss: 0.6555 - acc: 0.7421 - val_loss: 0.5785 - val_acc: 0.7259\n",
      "Epoch 34/50\n",
      "45/45 [==============================] - 18s 409ms/step - loss: 0.7122 - acc: 0.6865 - val_loss: 0.5630 - val_acc: 0.8020\n",
      "Epoch 35/50\n",
      "45/45 [==============================] - 18s 391ms/step - loss: 0.6554 - acc: 0.7532 - val_loss: 0.5517 - val_acc: 0.7868\n",
      "Epoch 36/50\n",
      "45/45 [==============================] - 18s 395ms/step - loss: 0.6334 - acc: 0.7381 - val_loss: 0.6550 - val_acc: 0.6954\n",
      "Epoch 37/50\n",
      "45/45 [==============================] - 18s 406ms/step - loss: 0.8499 - acc: 0.6581 - val_loss: 0.5359 - val_acc: 0.8274\n",
      "Epoch 38/50\n",
      "45/45 [==============================] - 18s 404ms/step - loss: 0.6342 - acc: 0.7466 - val_loss: 0.5020 - val_acc: 0.8020\n",
      "Epoch 39/50\n",
      "45/45 [==============================] - 18s 406ms/step - loss: 0.6592 - acc: 0.7203 - val_loss: 0.4533 - val_acc: 0.8731\n",
      "Epoch 40/50\n",
      "45/45 [==============================] - 15s 325ms/step - loss: 0.5608 - acc: 0.7843 - val_loss: 0.4774 - val_acc: 0.8173\n",
      "Epoch 41/50\n",
      "45/45 [==============================] - 16s 350ms/step - loss: 0.5776 - acc: 0.7643 - val_loss: 0.5038 - val_acc: 0.8071\n",
      "Epoch 42/50\n",
      "45/45 [==============================] - 18s 397ms/step - loss: 0.5840 - acc: 0.7710 - val_loss: 0.4354 - val_acc: 0.8477\n",
      "Epoch 43/50\n",
      "45/45 [==============================] - 21s 473ms/step - loss: 0.4993 - acc: 0.8221 - val_loss: 0.4897 - val_acc: 0.8731\n",
      "Epoch 44/50\n",
      "45/45 [==============================] - 16s 346ms/step - loss: 0.5345 - acc: 0.7692 - val_loss: 0.4126 - val_acc: 0.8629\n",
      "Epoch 45/50\n",
      "45/45 [==============================] - 13s 283ms/step - loss: 0.4788 - acc: 0.8155 - val_loss: 0.3938 - val_acc: 0.8832\n",
      "Epoch 46/50\n",
      "45/45 [==============================] - 13s 291ms/step - loss: 0.4948 - acc: 0.8048 - val_loss: 0.4402 - val_acc: 0.8223\n",
      "Epoch 47/50\n",
      "45/45 [==============================] - 12s 274ms/step - loss: 0.6210 - acc: 0.7270 - val_loss: 0.3967 - val_acc: 0.8731\n",
      "Epoch 48/50\n",
      "45/45 [==============================] - 13s 287ms/step - loss: 0.4681 - acc: 0.8288 - val_loss: 0.3531 - val_acc: 0.8731\n",
      "Epoch 49/50\n",
      "45/45 [==============================] - 13s 284ms/step - loss: 0.4195 - acc: 0.8310 - val_loss: 0.3187 - val_acc: 0.9188\n",
      "Epoch 50/50\n",
      "45/45 [==============================] - 13s 284ms/step - loss: 0.4505 - acc: 0.8088 - val_loss: 0.3375 - val_acc: 0.8934\n"
     ]
    },
    {
     "data": {
      "text/plain": [
       "<keras.callbacks.History at 0x11cffc53248>"
      ]
     },
     "execution_count": 13,
     "metadata": {},
     "output_type": "execute_result"
    }
   ],
   "source": [
    "model.fit_generator(x_train, steps_per_epoch=45, epochs=50, validation_data = x_test, validation_steps=20)"
   ]
  },
  {
   "cell_type": "markdown",
   "metadata": {},
   "source": [
    "# Step 12: Save The Model"
   ]
  },
  {
   "cell_type": "code",
   "execution_count": 14,
   "metadata": {},
   "outputs": [],
   "source": [
    "model.save(\"skin.h5\")"
   ]
  },
  {
   "cell_type": "markdown",
   "metadata": {},
   "source": [
    "END"
   ]
  }
 ],
 "metadata": {
  "kernelspec": {
   "display_name": "Python 3",
   "language": "python",
   "name": "python3"
  },
  "language_info": {
   "codemirror_mode": {
    "name": "ipython",
    "version": 3
   },
   "file_extension": ".py",
   "mimetype": "text/x-python",
   "name": "python",
   "nbconvert_exporter": "python",
   "pygments_lexer": "ipython3",
   "version": "3.7.4"
  }
 },
 "nbformat": 4,
 "nbformat_minor": 2
}
